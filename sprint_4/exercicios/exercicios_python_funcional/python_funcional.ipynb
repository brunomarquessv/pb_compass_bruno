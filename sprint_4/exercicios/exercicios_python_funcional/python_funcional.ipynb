{
 "cells": [
  {
   "cell_type": "code",
   "execution_count": null,
   "metadata": {},
   "outputs": [],
   "source": [
    "# EX 1 \n",
    "num_par = lambda x: x % 2 == 0\n",
    "with open('number.txt', 'r') as file:\n",
    "    numeros = map(int, file.readlines())\n",
    "\n",
    "\n",
    "numeros_pares = filter(num_par, numeros)\n",
    "numeros_pares_sorteados = sorted(numeros_pares, reverse=True)\n",
    "maiores_cinco_pares = numeros_pares_sorteados[:5]\n",
    "soma_dos_maiores = sum(maiores_cinco_pares)\n",
    "\n",
    "\n",
    "print(maiores_cinco_pares)\n",
    "print(soma_dos_maiores)"
   ]
  },
  {
   "cell_type": "code",
   "execution_count": null,
   "metadata": {},
   "outputs": [],
   "source": [
    "# EX 2\n",
    "def conta_vogais(texto: str) -> int:\n",
    "    vogais = 'aeiouAEIOU'\n",
    "    contar_vogais = len(list(filter(lambda x: x in vogais, texto)))\n",
    "    return contar_vogais\n",
    "\n",
    "\n",
    "texto = \"Testando o código, por favor, funcione\"\n",
    "resultado = conta_vogais(texto)\n",
    "print(\"Número de vogais:\", resultado)\n"
   ]
  },
  {
   "cell_type": "code",
   "execution_count": null,
   "metadata": {},
   "outputs": [],
   "source": [
    "# EX 3 \n",
    "from functools import reduce\n",
    "\n",
    "\n",
    "def calcula_saldo(lancamentos):\n",
    "    calcular_lancamento = lambda saldo, lancamento: saldo + (lancamento[0] if lancamento[1] == 'C' else - lancamento[0])\n",
    "    saldos = map(lambda x: x[0] if x[1] == 'C' else -x[0], lancamentos)\n",
    "    saldo_final = reduce(lambda acc, valor: acc + valor, saldos, 0)\n",
    "    return saldo_final\n",
    "\n",
    "\n",
    "lancamentos = [\n",
    "    (200, 'D'),\n",
    "    (300, 'C'),\n",
    "    (100, 'C')\n",
    "]\n",
    "\n",
    "resultado = calcula_saldo(lancamentos)\n",
    "print(\"Valor final: \", resultado)\n",
    "\n"
   ]
  },
  {
   "cell_type": "code",
   "execution_count": null,
   "metadata": {},
   "outputs": [],
   "source": [
    "# EX 4\n",
    "def calcular_valor_maximo(operadores, operandos) -> float:\n",
    "    resultados = map(lambda x: eval(f'{x[0][0]} {x[1]} {x[0][1]}'), zip(operandos, operadores))\n",
    "    return max(resultados)\n",
    "\n",
    "operadores = ['+','-','*','/','+']\n",
    "operandos = [(3,6), (-7,4.9), (8,-8), (10,2), (8,4)]\n",
    "\n",
    "resultado = calcular_valor_maximo(operadores, operandos)\n",
    "print(\"Maior valor:\", resultado)\n"
   ]
  },
  {
   "cell_type": "code",
   "execution_count": null,
   "metadata": {},
   "outputs": [],
   "source": [
    "# EX 5 \n",
    "# Foi utilizado outro código no momento da entrega do udemy, pois, estava dando erro na formatação. Problema este que vários alunos teve (problema na própria udemy)\n",
    "import csv\n",
    "\n",
    "\n",
    "def calcular_media_tres_maiores(notas):\n",
    "    tres_maiores = sorted(notas, reverse=True)[:3]\n",
    "    media = sum(tres_maiores) / 3\n",
    "    return round(media, 2)\n",
    "\n",
    "\n",
    "def processar_arquivo(nome_arquivo):\n",
    "    with open(nome_arquivo, 'r', newline='') as arquivo:\n",
    "        leitor_csv = csv.reader(arquivo)\n",
    "        next(leitor_csv)  \n",
    "\n",
    "        for linha in leitor_csv:\n",
    "            nome_estudante = linha[0]\n",
    "            notas = list(map(int, linha[1:]))\n",
    "            tres_maiores_notas = sorted(notas, reverse=True)[:3]\n",
    "            media_tres_maiores = calcular_media_tres_maiores(notas)\n",
    "\n",
    "            \n",
    "            print(f\"Nome: {nome_estudante} Notas: {tres_maiores_notas} Média: {media_tres_maiores}\")\n",
    "\n",
    "\n",
    "processar_arquivo('estudantes.csv')\n"
   ]
  },
  {
   "cell_type": "code",
   "execution_count": null,
   "metadata": {},
   "outputs": [],
   "source": [
    "# EX 6\n",
    "def maiores_que_media(conteudo: dict) -> list:\n",
    "    precos = list(conteudo.values())\n",
    "    media = sum(precos) / len(precos)\n",
    "    produtos_acima_media = [(produto, preco) for produto, preco in conteudo.items() if preco > media]\n",
    "    produtos_acima_media_ordenados = sorted(produtos_acima_media, key=lambda x: x[1])\n",
    "\n",
    "    return produtos_acima_media_ordenados"
   ]
  },
  {
   "cell_type": "code",
   "execution_count": null,
   "metadata": {},
   "outputs": [],
   "source": [
    "# EX 7\n",
    "def pares_ate(n: int):\n",
    "    n = n if n % 2 == 0 else n - 1\n",
    "    for i in range(2, n + 1, 2):\n",
    "        yield i\n",
    "\n",
    "n = 10\n",
    "gerador = pares_ate(n)\n",
    "\n",
    "for numero in gerador:\n",
    "    print(numero)"
   ]
  }
 ],
 "metadata": {
  "language_info": {
   "name": "python"
  }
 },
 "nbformat": 4,
 "nbformat_minor": 2
}
