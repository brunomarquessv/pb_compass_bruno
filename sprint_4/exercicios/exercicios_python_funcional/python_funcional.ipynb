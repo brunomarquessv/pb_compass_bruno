{
 "cells": [
  {
   "cell_type": "code",
   "execution_count": null,
   "metadata": {},
   "outputs": [],
   "source": [
    "# EX 1 \n",
    "num_par = lambda x: x % 2 == 0\n",
    "with open('number.txt', 'r') as file:\n",
    "    numeros = map(int, file.readlines())\n",
    "\n",
    "\n",
    "numeros_pares = filter(num_par, numeros)\n",
    "numeros_pares_sorteados = sorted(numeros_pares, reverse=True)\n",
    "maiores_cinco_pares = numeros_pares_sorteados[:5]\n",
    "soma_dos_maiores = sum(maiores_cinco_pares)\n",
    "\n",
    "\n",
    "print(maiores_cinco_pares)\n",
    "print(soma_dos_maiores)"
   ]
  },
  {
   "cell_type": "code",
   "execution_count": null,
   "metadata": {},
   "outputs": [],
   "source": [
    "# EX 2"
   ]
  },
  {
   "cell_type": "code",
   "execution_count": null,
   "metadata": {},
   "outputs": [],
   "source": [
    "# EX 3 "
   ]
  },
  {
   "cell_type": "code",
   "execution_count": null,
   "metadata": {},
   "outputs": [],
   "source": [
    "# EX 4"
   ]
  },
  {
   "cell_type": "code",
   "execution_count": null,
   "metadata": {},
   "outputs": [],
   "source": [
    "# EX 5 "
   ]
  }
 ],
 "metadata": {
  "language_info": {
   "name": "python"
  }
 },
 "nbformat": 4,
 "nbformat_minor": 2
}
