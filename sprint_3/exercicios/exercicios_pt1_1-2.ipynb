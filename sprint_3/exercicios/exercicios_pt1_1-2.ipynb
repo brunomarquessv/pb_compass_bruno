{
 "cells": [
  {
   "cell_type": "markdown",
   "metadata": {},
   "source": [
    "##### PB - AWS 3/10\n",
    "**Exercícios Python I - 1/2**"
   ]
  },
  {
   "cell_type": "code",
   "execution_count": null,
   "metadata": {},
   "outputs": [],
   "source": [
    "# EX - 1\n",
    "nome = str(input('Digite seu nome: '))\n",
    "idade = int(input('Digite sua idade: '))\n",
    "ano_aniversario = 2023 + (100 - idade)\n",
    "\n",
    "print(ano_aniversario)"
   ]
  },
  {
   "cell_type": "code",
   "execution_count": null,
   "metadata": {},
   "outputs": [],
   "source": [
    "# EX - 2\n",
    "for i in range(3):\n",
    "    numero = int(input('Digite um numero: '))\n",
    "    \n",
    "    if numero % 2 == 0:\n",
    "        print(f\"Par: {numero}\")\n",
    "    else: \n",
    "        print(f\"Ímpar: {numero}\")"
   ]
  },
  {
   "cell_type": "code",
   "execution_count": null,
   "metadata": {},
   "outputs": [],
   "source": [
    "# EX - 3\n",
    "for numeros_pares in range(0, 21):\n",
    "    if numeros_pares % 2 == 0:\n",
    "        print(numeros_pares)"
   ]
  },
  {
   "cell_type": "code",
   "execution_count": null,
   "metadata": {},
   "outputs": [],
   "source": [
    "# EX - 4\n",
    "def numero_primo(num):\n",
    "    if num <= 1:\n",
    "        return False\n",
    "    for i in range(2, num):\n",
    "        if num % i == 0:\n",
    "            return False\n",
    "    return True\n",
    "\n",
    "for numero in range(1, 101):\n",
    "    if numero_primo(numero):\n",
    "        print(numero)\n"
   ]
  },
  {
   "cell_type": "code",
   "execution_count": 1,
   "metadata": {},
   "outputs": [
    {
     "name": "stdout",
     "output_type": "stream",
     "text": [
      "22/10/2022\n"
     ]
    }
   ],
   "source": [
    "# EX - 5\n",
    "dia = 22\n",
    "mes = 10\n",
    "ano = 2022\n",
    "\n",
    "print(f'{str(dia)}/{str(mes)}/{str(ano)}')"
   ]
  }
 ],
 "metadata": {
  "kernelspec": {
   "display_name": "Python 3",
   "language": "python",
   "name": "python3"
  },
  "language_info": {
   "codemirror_mode": {
    "name": "ipython",
    "version": 3
   },
   "file_extension": ".py",
   "mimetype": "text/x-python",
   "name": "python",
   "nbconvert_exporter": "python",
   "pygments_lexer": "ipython3",
   "version": "3.10.11"
  }
 },
 "nbformat": 4,
 "nbformat_minor": 2
}
