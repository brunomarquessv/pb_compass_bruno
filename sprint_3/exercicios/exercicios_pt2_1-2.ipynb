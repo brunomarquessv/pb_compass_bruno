{
 "cells": [
  {
   "cell_type": "markdown",
   "metadata": {},
   "source": [
    "##### PB - AWS 3/10\n",
    "**Exercícios Python II - 1/2**"
   ]
  },
  {
   "cell_type": "markdown",
   "metadata": {},
   "source": [
    "**Por questões de tempo e dificuldades, precisei de auxilio nesta leva exercícios voltados para POO**\n",
    "Recebi auxílio do meu squad e em alguns momentos do Bard também, mas tive ajuda com todos do estágio, agradeço!"
   ]
  },
  {
   "cell_type": "code",
   "execution_count": null,
   "metadata": {},
   "outputs": [],
   "source": [
    "# EX - 21\n",
    "class Passaro:\n",
    "    def __init__(self, nome):\n",
    "        self.nome = nome\n",
    "\n",
    "    def voar(self):\n",
    "        print(f\"{self.nome} voando...\")\n",
    "\n",
    "    def emitir_som(self):\n",
    "        raise NotImplementedError\n",
    "\n",
    "\n",
    "class Pato(Passaro):\n",
    "    def emitir_som(self):\n",
    "        print(\"Quack Quack\")\n",
    "\n",
    "\n",
    "class Pardal(Passaro):\n",
    "    def emitir_som(self):\n",
    "        print(\"Piu Piu\")\n",
    "\n",
    "\n",
    "pato = Pato(\"Pato\")\n",
    "pato.voar()\n",
    "pato.emitir_som()\n",
    "\n",
    "pardal = Pardal(\"Pardal\")\n",
    "pardal.voar()\n",
    "pardal.emitir_som()"
   ]
  },
  {
   "cell_type": "code",
   "execution_count": null,
   "metadata": {},
   "outputs": [],
   "source": [
    "# EX - 22\n",
    "class Pessoa:\n",
    "    def __init__(self, id):\n",
    "        self.id = id\n",
    "        self.__nome = None\n",
    "\n",
    "    @property\n",
    "    def nome(self):\n",
    "        return self.__nome\n",
    "\n",
    "    @nome.setter\n",
    "    def nome(self, nome):\n",
    "        self.__nome = nome\n",
    "\n",
    "\n",
    "pessoa = Pessoa(0)\n",
    "pessoa.nome = \"Fulano De Tal\"\n",
    "print(pessoa.nome)"
   ]
  },
  {
   "cell_type": "code",
   "execution_count": null,
   "metadata": {},
   "outputs": [],
   "source": [
    "# EX - 23\n",
    "class Calculo:\n",
    "    def __init__(self, x, y):\n",
    "        self.x = x\n",
    "        self.y = y\n",
    "\n",
    "    def somar(self):\n",
    "        return self.x + self.y\n",
    "\n",
    "    def subtrair(self):\n",
    "        return self.x - self.y\n",
    "\n",
    "\n",
    "x = 4\n",
    "y = 5\n",
    "\n",
    "calculo = Calculo(x, y)\n",
    "\n",
    "print(\"Somando:\", calculo.somar())\n",
    "print(\"Subtraindo:\", calculo.subtrair())"
   ]
  },
  {
   "cell_type": "code",
   "execution_count": null,
   "metadata": {},
   "outputs": [],
   "source": [
    "# EX - 24\n",
    "class Ordenadora:\n",
    "    def __init__(self, listaBaguncada):\n",
    "        self.listaBaguncada = listaBaguncada\n",
    "\n",
    "    def ordenacaoCrescente(self):\n",
    "        self.listaBaguncada.sort()\n",
    "        return self.listaBaguncada\n",
    "\n",
    "    def ordenacaoDecrescente(self):\n",
    "        self.listaBaguncada.sort(reverse=True)\n",
    "        return self.listaBaguncada\n",
    "\n",
    "\n",
    "crescente = Ordenadora([3, 4, 2, 1, 5])\n",
    "decrescente = Ordenadora([9, 7, 6, 8])\n",
    "\n",
    "print(crescente.ordenacaoCrescente())\n",
    "print(decrescente.ordenacaoDecrescente())"
   ]
  },
  {
   "cell_type": "code",
   "execution_count": null,
   "metadata": {},
   "outputs": [],
   "source": [
    "# EX - 25\n",
    "class Aviao:\n",
    "    def __init__(self, modelo, velocidade_maxima, capacidade):\n",
    "        self.modelo = modelo\n",
    "        self.velocidade_maxima = velocidade_maxima\n",
    "        self.cor = \"azul\"\n",
    "        self.capacidade = capacidade\n",
    "\n",
    "\n",
    "def main():\n",
    "    lista_aviao = []\n",
    "\n",
    "    lista_aviao.append(Avião(\"BOIENG456\", 1500, 400))\n",
    "    lista_aviao.append(Avião(\"Embraer Praetor 600\", 863, 14))\n",
    "    lista_aviao.append(Avião(\"Antonov An-2\", 258, 12))\n",
    "\n",
    "    for aviao in lista_aviao:\n",
    "        print(f\"O avião de modelo {aviao.modelo} possui uma velocidade máxima de {aviao.velocidade_maxima} km/h, capacidade para {aviao.capacidade} passageiros e é da cor {aviao.cor}.\")\n",
    "\n",
    "\n",
    "if __name__ == \"__main__\":\n",
    "    main()"
   ]
  }
 ],
 "metadata": {
  "language_info": {
   "name": "python"
  }
 },
 "nbformat": 4,
 "nbformat_minor": 2
}
