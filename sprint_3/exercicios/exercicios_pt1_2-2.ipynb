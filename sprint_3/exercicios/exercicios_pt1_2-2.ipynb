{
 "cells": [
  {
   "cell_type": "markdown",
   "metadata": {},
   "source": [
    "##### PB - AWS 3/10\n",
    "**Exercícios Python I - 2/2**"
   ]
  },
  {
   "cell_type": "code",
   "execution_count": null,
   "metadata": {},
   "outputs": [],
   "source": [
    "# EX 6\n",
    "a = set([1, 1, 2, 3, 5, 8, 14, 21, 34, 55, 89])\n",
    "b = set([1, 2, 3, 4, 5, 6, 7, 8, 9, 10, 11, 12, 13, 14, 15])\n",
    "print(list(a.intersection(b)))\n"
   ]
  },
  {
   "cell_type": "code",
   "execution_count": null,
   "metadata": {},
   "outputs": [],
   "source": [
    "# EX 7\n",
    "a = [1, 4, 9, 16, 25, 36, 49, 64, 81, 100]\n",
    "nova_lista = []\n",
    "\n",
    "for i in a:\n",
    "    if i % 2 != 0:\n",
    "        nova_lista.append(i)\n",
    "    \n",
    "print(nova_lista)"
   ]
  },
  {
   "cell_type": "code",
   "execution_count": null,
   "metadata": {},
   "outputs": [],
   "source": [
    "# EX 8 -> Utilizado o Bard para me auxiliar a formar o pensamento lógico\n",
    "def palindromo(palavra):\n",
    "    palavra = palavra.lower().replace(\" \", \"\")  \n",
    "    return palavra == palavra[::-1]\n",
    "\n",
    "def palindromos(lista_nomes):\n",
    "    for nome in lista_nomes:\n",
    "        if palindromo(nome):\n",
    "            print(f\"A palavra: {nome} é um palíndromo\")\n",
    "        else:\n",
    "            print(f\"A palavra: {nome} não é um palíndromo\")\n",
    "\n",
    "nomes = ['maça', 'arara', 'audio', 'radio', 'radar', 'moto']\n",
    "\n",
    "palindromos(nomes)"
   ]
  },
  {
   "cell_type": "code",
   "execution_count": null,
   "metadata": {},
   "outputs": [],
   "source": [
    "# EX 9\n",
    "primeirosNomes = ['Joao', 'Douglas', 'Lucas', 'José']\n",
    "sobreNomes = ['Soares', 'Souza', 'Silveira', 'Pedreira']\n",
    "idades = [19, 28, 25, 31]\n",
    "\n",
    "for indice, (primeirosNomes, sobreNomes, idades) in enumerate(zip(primeirosNomes, sobreNomes, idades)):\n",
    "    print(f'{indice} - {primeirosNomes} {sobreNomes} está com {idades} anos')"
   ]
  },
  {
   "cell_type": "code",
   "execution_count": null,
   "metadata": {},
   "outputs": [],
   "source": [
    "# EX 10\n",
    "def remove_repetidos(lista):\n",
    "    return list(set(lista))\n",
    "\n",
    "\n",
    "a = ['abc', 'abc', 'abc', '123', 'abc', '123', '123']\n",
    "nova_lista = remove_repetidos(a)\n",
    "print(nova_lista)"
   ]
  },
  {
   "cell_type": "code",
   "execution_count": null,
   "metadata": {},
   "outputs": [],
   "source": [
    "# EX 11 -> Utilizado o Bard para me auxiliar a formar o pensamento lógico\n",
    "nome_arquivo = \"arquivo_texto.txt\"\n",
    "\n",
    "try:\n",
    "    with open(nome_arquivo, 'r') as arquivo:\n",
    "        conteudo = arquivo.read()\n",
    "        print(conteudo)\n",
    "except FileNotFoundError:\n",
    "    print(f\"O arquivo '{nome_arquivo}' não foi encontrado.\")\n",
    "except Exception as e:\n",
    "    print(f\"Ocorreu um erro: {e}\")\n"
   ]
  },
  {
   "cell_type": "code",
   "execution_count": null,
   "metadata": {},
   "outputs": [],
   "source": [
    "# EX 12 -> Utilizado o Bard para me auxiliar a formar o pensamento lógico\n",
    "import json\n",
    "\n",
    "nome_arquivo = \"person.json\"\n",
    "\n",
    "try:\n",
    "    with open(nome_arquivo, 'r') as arquivo:\n",
    "        dados = json.load(arquivo)\n",
    "        print(dados)\n",
    "except FileNotFoundError:\n",
    "    print(f\"O arquivo '{nome_arquivo}' não foi encontrado.\")\n",
    "except Exception as e:\n",
    "    print(f\"Ocorreu um erro: {e}\")\n"
   ]
  },
  {
   "cell_type": "code",
   "execution_count": null,
   "metadata": {},
   "outputs": [],
   "source": [
    "# EX 13\n",
    "def my_map(lista, funcao):\n",
    "    return [funcao(elemento) for elemento in lista]\n",
    "\n",
    "\n",
    "def quadrado(numero):\n",
    "    return numero ** 2\n",
    "\n",
    "\n",
    "lista = [1, 2, 3, 4, 5, 6, 7, 8, 9, 10]\n",
    "resultado = my_map(lista, quadrado)\n",
    "print(resultado)"
   ]
  },
  {
   "cell_type": "code",
   "execution_count": null,
   "metadata": {},
   "outputs": [],
   "source": [
    "# EX 14\n",
    "def parametro(*args, **kwargs):\n",
    "    for arg in args:\n",
    "        print(arg)\n",
    "    for kwarg in kwargs.values():\n",
    "        print(kwarg)\n",
    "\n",
    "\n",
    "parametro(1, 3, 4, 'hello', parametro_nomeado='alguma coisa', x=20)\n"
   ]
  },
  {
   "cell_type": "code",
   "execution_count": null,
   "metadata": {},
   "outputs": [],
   "source": [
    "# EX 15 -> Utilizado o Bard para me auxiliar a forma o pensamento lógico\n",
    "class Lampada:\n",
    "    def __init__(self, estado):\n",
    "        self.ligada = estado\n",
    "\n",
    "    def liga(self):\n",
    "        self.ligada = True\n",
    "\n",
    "    def desliga(self):\n",
    "        self.ligada = False\n",
    "\n",
    "    def esta_ligada(self):\n",
    "        return self.ligada\n",
    "\n",
    "\n",
    "lampada = Lampada(False)\n",
    "lampada.liga()\n",
    "print(\"A lâmpada está ligada?\", lampada.esta_ligada())\n",
    "lampada.desliga()\n",
    "print(\"A lâmpada ainda está ligada?\", lampada.esta_ligada())"
   ]
  },
  {
   "cell_type": "code",
   "execution_count": null,
   "metadata": {},
   "outputs": [],
   "source": [
    "# EX 16\n",
    "def somar_numeros(string_numeros):\n",
    "    lista_numeros = string_numeros.split(\",\")\n",
    "    soma = 0\n",
    "    for numero in lista_numeros:\n",
    "        soma += int(numero)\n",
    "    return soma\n",
    "\n",
    "\n",
    "string_numeros = \"1,3,4,6,10,76\"\n",
    "soma = somar_numeros(string_numeros)\n",
    "print(soma)"
   ]
  },
  {
   "cell_type": "code",
   "execution_count": null,
   "metadata": {},
   "outputs": [],
   "source": [
    "# EX 17 -> Utilizado o Bard para me auxiliar a formar o pensamento lógico\n",
    "def dividir_lista(lista):\n",
    "    tamanho_lista = len(lista)\n",
    "    tamanho_parte = tamanho_lista // 3\n",
    "    primeira_parte = lista[:tamanho_parte]\n",
    "    segunda_parte = lista[tamanho_parte:2 * tamanho_parte]\n",
    "    terceira_parte = lista[2 * tamanho_parte:]\n",
    "    return primeira_parte, segunda_parte, terceira_parte\n",
    "\n",
    "\n",
    "lista = [1, 2, 3, 4, 5, 6, 7, 8, 9, 10, 11, 12]\n",
    "\n",
    "primeira_parte, segunda_parte, terceira_parte = dividir_lista(lista)\n",
    "\n",
    "print(primeira_parte, segunda_parte, terceira_parte)"
   ]
  },
  {
   "cell_type": "code",
   "execution_count": null,
   "metadata": {},
   "outputs": [],
   "source": [
    "# EX 18\n",
    "speed = {'jan':47, 'feb':52, 'march':47, 'April':44, 'May':52, 'June':53, 'july':54, 'Aug':44, 'Sept':54}\n",
    "\n",
    "valores_unicos = list(set(speed.values()))\n",
    "print(valores_unicos)\n"
   ]
  },
  {
   "cell_type": "code",
   "execution_count": null,
   "metadata": {},
   "outputs": [],
   "source": [
    "# EX 19 -> Utilizado o Bard para me auxiliar a formar o pensamento lógico\n",
    "import random\n",
    "\n",
    "\n",
    "random_list = random.sample(range(500), 50)\n",
    "random_list.sort()\n",
    "valor_minimo = min(random_list)\n",
    "valor_maximo = max(random_list)\n",
    "media = sum(random_list) / len(random_list)\n",
    "\n",
    "\n",
    "if len(random_list) % 2 == 0:\n",
    "    mediana = (random_list[len(random_list) // 2] + random_list[len(random_list) // 2 - 1]) / 2\n",
    "else:\n",
    "    mediana = random_list[len(random_list) // 2]\n",
    "\n",
    "print(f\"Media: {media}, Mediana: {mediana}, Mínimo: {valor_minimo}, Máximo: {valor_maximo}\")"
   ]
  },
  {
   "cell_type": "code",
   "execution_count": 1,
   "metadata": {},
   "outputs": [
    {
     "name": "stdout",
     "output_type": "stream",
     "text": [
      "[89, 55, 34, 21, 13, 8, 5, 3, 2, 0, 1]\n"
     ]
    }
   ],
   "source": [
    "# EX 20 \n",
    "a = [1, 0, 2, 3, 5, 8, 13, 21, 34, 55, 89]\n",
    "a.reverse()\n",
    "\n",
    "print(f'{a}')"
   ]
  }
 ],
 "metadata": {
  "kernelspec": {
   "display_name": "Python 3",
   "language": "python",
   "name": "python3"
  },
  "language_info": {
   "codemirror_mode": {
    "name": "ipython",
    "version": 3
   },
   "file_extension": ".py",
   "mimetype": "text/x-python",
   "name": "python",
   "nbconvert_exporter": "python",
   "pygments_lexer": "ipython3",
   "version": "3.10.11"
  }
 },
 "nbformat": 4,
 "nbformat_minor": 2
}
