{
 "cells": [
  {
   "cell_type": "markdown",
   "metadata": {},
   "source": [
    "##### Desafio ETL - Python"
   ]
  },
  {
   "cell_type": "code",
   "execution_count": 14,
   "metadata": {},
   "outputs": [],
   "source": [
    "##### formatação\n",
    "linhas_ajustadas = []\n",
    "\n",
    "with open('actors.csv', 'r') as arquivo:\n",
    "    for linha in arquivo:\n",
    "        colunas = linha.split(',')\n",
    "        if colunas[0].startswith('\"'):\n",
    "            colunas[0] = colunas[0][1:]\n",
    "            colunas[1] = colunas[1][:-1]\n",
    "            formatacao = f\"{colunas[0]}{colunas[1]}\"\n",
    "            colunas.pop(1)\n",
    "            colunas[0] = formatacao\n",
    "        linhas_ajustadas.append(','.join(colunas))\n",
    "\n",
    "with open('actors.csv', 'w') as arquivo:\n",
    "    arquivo.writelines(linhas_ajustadas)"
   ]
  },
  {
   "cell_type": "markdown",
   "metadata": {},
   "source": [
    "1.\n"
   ]
  },
  {
   "cell_type": "code",
   "execution_count": 12,
   "metadata": {},
   "outputs": [],
   "source": [
    "with open('actors.csv') as arquivo:\n",
    "    with open('etapa-1.txt', 'w') as saida:\n",
    "        atorMaiorQtdDeFilmes = ''\n",
    "        maiorNumFilmes = 0 \n",
    "        for linha in arquivo:\n",
    "            colunas = linha.split(',')\n",
    "            if colunas[2].isnumeric():\n",
    "                if int(colunas[2]) > maiorNumFilmes:\n",
    "                    atorMaiorQtdDeFilmes = colunas[0]\n",
    "                    maiorNumFilmes = int(colunas[2])\n",
    "\n",
    "        print(f\"{atorMaiorQtdDeFilmes} é o ator com a maior quantidade de filmes. Tendo uma quantidade de: {maiorNumFilmes} obras\", file=saida)"
   ]
  },
  {
   "cell_type": "markdown",
   "metadata": {},
   "source": [
    "2.\n"
   ]
  },
  {
   "cell_type": "code",
   "execution_count": 11,
   "metadata": {},
   "outputs": [],
   "source": [
    "with open('actors.csv') as arquivo:\n",
    "    with open('etapa-2.txt', 'w') as saida:\n",
    "        total_bilheteria = []\n",
    "\n",
    "        for linha in arquivo:\n",
    "            colunas = linha.strip().split(',')\n",
    "\n",
    "            if colunas[5].replace('.', '', 1).isnumeric():\n",
    "                total_bilheteria.append(float(colunas[5]))\n",
    "\n",
    "        media = (sum(total_bilheteria)/len(total_bilheteria))\n",
    "        print(f\"A média de receita bruta dos principais filmes é de aproximadamente: {media:.1f}\", file=saida)"
   ]
  },
  {
   "cell_type": "markdown",
   "metadata": {},
   "source": [
    "3.\n"
   ]
  },
  {
   "cell_type": "code",
   "execution_count": 1,
   "metadata": {},
   "outputs": [],
   "source": [
    "with open('actors.csv') as arquivo:\n",
    "    with open('etapa-3.txt', 'w') as saida:\n",
    "        atorMaiorQtdDeFilmes = ''\n",
    "        maiorMediaPorFilme = 0\n",
    "\n",
    "        for linha in arquivo:\n",
    "            colunas = linha.split(',')\n",
    "\n",
    "            if colunas[3].strip().replace('.', '', 1).isdigit():\n",
    "                if float(colunas[3]) > maiorMediaPorFilme:\n",
    "                    atorMaiorQtdDeFilmes = colunas[0]\n",
    "                    maiorMediaPorFilme = float(colunas[3])\n",
    "\n",
    "        print(f\"{atorMaiorQtdDeFilmes} é o ator com maior média de receita: {maiorMediaPorFilme}\", file=saida)\n",
    "        "
   ]
  },
  {
   "cell_type": "markdown",
   "metadata": {},
   "source": [
    "4.\n"
   ]
  },
  {
   "cell_type": "code",
   "execution_count": 2,
   "metadata": {},
   "outputs": [],
   "source": [
    "with open('actors.csv') as arquivo:\n",
    "    with open('etapa-4.txt', 'w') as saida:\n",
    "    \n",
    "        contador_filmes = {}\n",
    "\n",
    "        for linha in arquivo:\n",
    "            colunas = linha.strip().split(',')\n",
    "            filme = colunas[4]\n",
    "\n",
    "            if filme == \"#1 Movie\":\n",
    "                continue\n",
    "\n",
    "            contador_filmes[filme] = contador_filmes.get(filme, 0) + 1\n",
    "\n",
    "            ordenaçao = sorted(contador_filmes.items(), key=lambda x: (-x[1], x[0]))\n",
    "\n",
    "            for sequencia, (filme, quantidade) in enumerate(ordenaçao, start=1):\n",
    "                print(f\"{sequencia} - O filme {filme} aparece {quantidade} vez(es) no dataset\", file=saida)"
   ]
  },
  {
   "cell_type": "markdown",
   "metadata": {},
   "source": [
    "5.\n"
   ]
  },
  {
   "cell_type": "code",
   "execution_count": 15,
   "metadata": {},
   "outputs": [
    {
     "ename": "AttributeError",
     "evalue": "'str' object has no attribute 'items'",
     "output_type": "error",
     "traceback": [
      "\u001b[1;31m---------------------------------------------------------------------------\u001b[0m",
      "\u001b[1;31mAttributeError\u001b[0m                            Traceback (most recent call last)",
      "\u001b[1;32mc:\\Users\\bruno\\developer\\pb_compass_bruno\\sprint_3\\desafio_etl\\etl.ipynb Cell 11\u001b[0m line \u001b[0;36m1\n\u001b[0;32m     <a href='vscode-notebook-cell:/c%3A/Users/bruno/developer/pb_compass_bruno/sprint_3/desafio_etl/etl.ipynb#X12sZmlsZQ%3D%3D?line=11'>12</a>\u001b[0m         \u001b[39mcontinue\u001b[39;00m\n\u001b[0;32m     <a href='vscode-notebook-cell:/c%3A/Users/bruno/developer/pb_compass_bruno/sprint_3/desafio_etl/etl.ipynb#X12sZmlsZQ%3D%3D?line=13'>14</a>\u001b[0m     contador_receita[nome_ator] \u001b[39m=\u001b[39m (receita_bilheteria)    \n\u001b[1;32m---> <a href='vscode-notebook-cell:/c%3A/Users/bruno/developer/pb_compass_bruno/sprint_3/desafio_etl/etl.ipynb#X12sZmlsZQ%3D%3D?line=15'>16</a>\u001b[0m ordenaçao \u001b[39m=\u001b[39m \u001b[39msorted\u001b[39m(receita_bilheteria\u001b[39m.\u001b[39;49mitems(), key\u001b[39m=\u001b[39m\u001b[39mlambda\u001b[39;00m x: (\u001b[39m-\u001b[39mx[\u001b[39m1\u001b[39m]))\n\u001b[0;32m     <a href='vscode-notebook-cell:/c%3A/Users/bruno/developer/pb_compass_bruno/sprint_3/desafio_etl/etl.ipynb#X12sZmlsZQ%3D%3D?line=17'>18</a>\u001b[0m \u001b[39mfor\u001b[39;00m sequencia, (nome_ator, receita) \u001b[39min\u001b[39;00m \u001b[39menumerate\u001b[39m(ordenaçao, start\u001b[39m=\u001b[39m\u001b[39m1\u001b[39m):\n\u001b[0;32m     <a href='vscode-notebook-cell:/c%3A/Users/bruno/developer/pb_compass_bruno/sprint_3/desafio_etl/etl.ipynb#X12sZmlsZQ%3D%3D?line=18'>19</a>\u001b[0m     \u001b[39mprint\u001b[39m(\u001b[39mf\u001b[39m\u001b[39m\"\u001b[39m\u001b[39m{\u001b[39;00msequencia\u001b[39m}\u001b[39;00m\u001b[39m: \u001b[39m\u001b[39m{\u001b[39;00mnome_ator\u001b[39m}\u001b[39;00m\u001b[39m - \u001b[39m\u001b[39m{\u001b[39;00mreceita_bilheteria\u001b[39m}\u001b[39;00m\u001b[39m\"\u001b[39m, file\u001b[39m=\u001b[39msaida)\n",
      "\u001b[1;31mAttributeError\u001b[0m: 'str' object has no attribute 'items'"
     ]
    }
   ],
   "source": [
    "with open('actors.csv') as arquivo:\n",
    "    with open('etapa-5.txt', 'w') as saida:\n",
    "    \n",
    "        contador_receita = {}\n",
    "\n",
    "        for linha in arquivo:\n",
    "            colunas = linha.strip().split(',')\n",
    "            nome_ator = colunas [0]\n",
    "            receita_bilheteria = colunas[1]\n",
    "\n",
    "            if receita_bilheteria == \"Total Gross\":\n",
    "                continue\n",
    "        \n",
    "            contador_receita[nome_ator] = (receita_bilheteria)    \n",
    "\n",
    "        ordenaçao = sorted(receita_bilheteria.items(), key=lambda x: (-x[1]))\n",
    "\n",
    "        for sequencia, (nome_ator, receita) in enumerate(ordenaçao, start=1):\n",
    "            print(f\"{sequencia}: {nome_ator} - {receita_bilheteria}\", file=saida)"
   ]
  }
 ],
 "metadata": {
  "kernelspec": {
   "display_name": "Python 3",
   "language": "python",
   "name": "python3"
  },
  "language_info": {
   "codemirror_mode": {
    "name": "ipython",
    "version": 3
   },
   "file_extension": ".py",
   "mimetype": "text/x-python",
   "name": "python",
   "nbconvert_exporter": "python",
   "pygments_lexer": "ipython3",
   "version": "3.10.11"
  }
 },
 "nbformat": 4,
 "nbformat_minor": 2
}
